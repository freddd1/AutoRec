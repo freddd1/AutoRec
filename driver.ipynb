{
 "cells": [
  {
   "cell_type": "markdown",
   "source": [
    "# AutoRec cs3639 Recommendation Systems course IDC"
   ],
   "metadata": {
    "collapsed": false,
    "pycharm": {
     "name": "#%% md\n"
    }
   }
  },
  {
   "cell_type": "markdown",
   "source": [
    "### here will be general explanations"
   ],
   "metadata": {
    "collapsed": false,
    "pycharm": {
     "name": "#%% md\n"
    }
   }
  },
  {
   "cell_type": "code",
   "execution_count": 2,
   "outputs": [],
   "source": [
    "import numpy as np\n",
    "import pandas as pd\n",
    "import sklearn\n",
    "import torch\n",
    "from torch import nn"
   ],
   "metadata": {
    "collapsed": false,
    "pycharm": {
     "name": "#%%\n"
    }
   }
  },
  {
   "cell_type": "code",
   "execution_count": 3,
   "outputs": [
    {
     "name": "stdout",
     "output_type": "stream",
     "text": [
      "Using device: cuda\n"
     ]
    }
   ],
   "source": [
    "device = torch.device('cuda' if torch.cuda.is_available() else 'cpu')\n",
    "print('Using device:', device)"
   ],
   "metadata": {
    "collapsed": false,
    "pycharm": {
     "name": "#%%\n"
    }
   }
  },
  {
   "cell_type": "markdown",
   "source": [
    "## datasets"
   ],
   "metadata": {
    "collapsed": false,
    "pycharm": {
     "name": "#%% md\n"
    }
   }
  },
  {
   "cell_type": "markdown",
   "source": [
    "In this project, we will use 2 datasets:\n",
    "* **movielens**, which can be downloaded using `utils.datasets_download.py` or straight from [here](http://files.grouplens.org/datasets/movielens/).\n",
    "* **netflixprize**, which can be downloaded from this [semi-parsed version from kaggle](https://www.kaggle.com/netflix-inc/netflix-prize-data) or from this [raw version](https://archive.org/download/nf_prize_dataset.tar)\n",
    "\n",
    "**NOTE**: for the notebook to run properly, you should save you dataset under `data` folder and `movielens` folder for the movielens dataset and `netflix` folder for the netflixprize dataset.\n",
    "i.e `data/movielens` folder and `data/netflix` folder respectively."
   ],
   "metadata": {
    "collapsed": false,
    "pycharm": {
     "name": "#%% md\n"
    }
   }
  },
  {
   "cell_type": "code",
   "execution_count": 4,
   "outputs": [],
   "source": [
    "from src.mf.model import MatrixFactorization\n",
    "from src.mf.training import MFTrainer"
   ],
   "metadata": {
    "collapsed": false,
    "pycharm": {
     "name": "#%%\n"
    }
   }
  },
  {
   "cell_type": "code",
   "execution_count": 5,
   "outputs": [
    {
     "name": "stdout",
     "output_type": "stream",
     "text": [
      "(80000, 4)\n"
     ]
    },
    {
     "data": {
      "text/plain": "       user_id  item_id  rating  timestamp\n0            1        1       5  874965758\n1            1        2       3  876893171\n2            1        3       4  878542960\n3            1        4       3  876893119\n4            1        5       3  889751712\n...        ...      ...     ...        ...\n79995      943     1067       2  875501756\n79996      943     1074       4  888640250\n79997      943     1188       3  888640250\n79998      943     1228       3  888640275\n79999      943     1330       3  888692465\n\n[80000 rows x 4 columns]",
      "text/html": "<div>\n<style scoped>\n    .dataframe tbody tr th:only-of-type {\n        vertical-align: middle;\n    }\n\n    .dataframe tbody tr th {\n        vertical-align: top;\n    }\n\n    .dataframe thead th {\n        text-align: right;\n    }\n</style>\n<table border=\"1\" class=\"dataframe\">\n  <thead>\n    <tr style=\"text-align: right;\">\n      <th></th>\n      <th>user_id</th>\n      <th>item_id</th>\n      <th>rating</th>\n      <th>timestamp</th>\n    </tr>\n  </thead>\n  <tbody>\n    <tr>\n      <th>0</th>\n      <td>1</td>\n      <td>1</td>\n      <td>5</td>\n      <td>874965758</td>\n    </tr>\n    <tr>\n      <th>1</th>\n      <td>1</td>\n      <td>2</td>\n      <td>3</td>\n      <td>876893171</td>\n    </tr>\n    <tr>\n      <th>2</th>\n      <td>1</td>\n      <td>3</td>\n      <td>4</td>\n      <td>878542960</td>\n    </tr>\n    <tr>\n      <th>3</th>\n      <td>1</td>\n      <td>4</td>\n      <td>3</td>\n      <td>876893119</td>\n    </tr>\n    <tr>\n      <th>4</th>\n      <td>1</td>\n      <td>5</td>\n      <td>3</td>\n      <td>889751712</td>\n    </tr>\n    <tr>\n      <th>...</th>\n      <td>...</td>\n      <td>...</td>\n      <td>...</td>\n      <td>...</td>\n    </tr>\n    <tr>\n      <th>79995</th>\n      <td>943</td>\n      <td>1067</td>\n      <td>2</td>\n      <td>875501756</td>\n    </tr>\n    <tr>\n      <th>79996</th>\n      <td>943</td>\n      <td>1074</td>\n      <td>4</td>\n      <td>888640250</td>\n    </tr>\n    <tr>\n      <th>79997</th>\n      <td>943</td>\n      <td>1188</td>\n      <td>3</td>\n      <td>888640250</td>\n    </tr>\n    <tr>\n      <th>79998</th>\n      <td>943</td>\n      <td>1228</td>\n      <td>3</td>\n      <td>888640275</td>\n    </tr>\n    <tr>\n      <th>79999</th>\n      <td>943</td>\n      <td>1330</td>\n      <td>3</td>\n      <td>888692465</td>\n    </tr>\n  </tbody>\n</table>\n<p>80000 rows × 4 columns</p>\n</div>"
     },
     "execution_count": 5,
     "metadata": {},
     "output_type": "execute_result"
    }
   ],
   "source": [
    "from src.data_prep import movielens_load\n",
    "train, test = movielens_load(1)\n",
    "print(train.shape)\n",
    "train"
   ],
   "metadata": {
    "collapsed": false,
    "pycharm": {
     "name": "#%%\n"
    }
   }
  },
  {
   "cell_type": "code",
   "execution_count": 6,
   "outputs": [
    {
     "name": "stdout",
     "output_type": "stream",
     "text": [
      "EPOCH 1: Avg losses: train: 6.947, val: 5.077\n",
      "EPOCH 2: Avg losses: train: 4.347, val: 3.930\n",
      "EPOCH 3: Avg losses: train: 3.685, val: 3.680\n",
      "EPOCH 4: Avg losses: train: 3.505, val: 3.524\n",
      "EPOCH 5: Avg losses: train: 3.247, val: 3.170\n",
      "EPOCH 6: Avg losses: train: 2.704, val: 2.597\n",
      "EPOCH 7: Avg losses: train: 2.251, val: 2.330\n",
      "EPOCH 8: Avg losses: train: 2.115, val: 2.271\n",
      "EPOCH 9: Avg losses: train: 2.094, val: 2.269\n",
      "EPOCH 10: Avg losses: train: 2.092, val: 2.262\n",
      "EPOCH 11: Avg losses: train: 2.089, val: 2.265\n",
      "EPOCH 12: Avg losses: train: 2.094, val: 2.261\n",
      "EPOCH 13: Avg losses: train: 2.088, val: 2.274\n",
      "EPOCH 14: Avg losses: train: 2.093, val: 2.270\n",
      "EPOCH 15: Avg losses: train: 2.094, val: 2.266\n",
      "EPOCH 16: Avg losses: train: 2.094, val: 2.264\n",
      "EPOCH 17: Avg losses: train: 2.092, val: 2.264\n",
      "EPOCH 18: Avg losses: train: 2.092, val: 2.270\n",
      "EPOCH 19: Avg losses: train: 2.092, val: 2.263\n",
      "EPOCH 20: Avg losses: train: 2.094, val: 2.254\n",
      "EPOCH 21: Avg losses: train: 2.088, val: 2.266\n",
      "EPOCH 22: Avg losses: train: 2.092, val: 2.266\n",
      "EPOCH 23: Avg losses: train: 2.090, val: 2.268\n",
      "EPOCH 24: Avg losses: train: 2.091, val: 2.264\n",
      "EPOCH 25: Avg losses: train: 2.087, val: 2.265\n",
      "EPOCH 26: Avg losses: train: 2.091, val: 2.265\n",
      "EPOCH 27: Avg losses: train: 2.090, val: 2.263\n",
      "EPOCH 28: Avg losses: train: 2.089, val: 2.264\n",
      "EPOCH 29: Avg losses: train: 2.087, val: 2.260\n",
      "EPOCH 30: Avg losses: train: 2.089, val: 2.266\n",
      "EPOCH 31: Avg losses: train: 2.088, val: 2.261\n",
      "EPOCH 32: Avg losses: train: 2.088, val: 2.259\n",
      "EPOCH 33: Avg losses: train: 2.087, val: 2.260\n",
      "EPOCH 34: Avg losses: train: 2.086, val: 2.260\n",
      "EPOCH 35: Avg losses: train: 2.088, val: 2.255\n",
      "EPOCH 36: Avg losses: train: 2.087, val: 2.267\n",
      "EPOCH 37: Avg losses: train: 2.085, val: 2.260\n",
      "EPOCH 38: Avg losses: train: 2.085, val: 2.261\n",
      "EPOCH 39: Avg losses: train: 2.088, val: 2.263\n",
      "EPOCH 40: Avg losses: train: 2.083, val: 2.263\n",
      "EPOCH 41: Avg losses: train: 2.087, val: 2.263\n",
      "EPOCH 42: Avg losses: train: 2.086, val: 2.254\n",
      "EPOCH 43: Avg losses: train: 2.083, val: 2.256\n",
      "EPOCH 44: Avg losses: train: 2.088, val: 2.253\n",
      "EPOCH 45: Avg losses: train: 2.082, val: 2.257\n",
      "EPOCH 46: Avg losses: train: 2.086, val: 2.258\n",
      "EPOCH 47: Avg losses: train: 2.083, val: 2.265\n",
      "EPOCH 48: Avg losses: train: 2.088, val: 2.256\n",
      "EPOCH 49: Avg losses: train: 2.084, val: 2.258\n",
      "EPOCH 50: Avg losses: train: 2.082, val: 2.266\n",
      "EPOCH 51: Avg losses: train: 2.086, val: 2.259\n",
      "EPOCH 52: Avg losses: train: 2.084, val: 2.258\n",
      "EPOCH 53: Avg losses: train: 2.081, val: 2.260\n",
      "EPOCH 54: Avg losses: train: 2.084, val: 2.268\n",
      "EPOCH 55: Avg losses: train: 2.086, val: 2.256\n",
      "EPOCH 56: Avg losses: train: 2.084, val: 2.253\n",
      "EPOCH 57: Avg losses: train: 2.082, val: 2.254\n",
      "EPOCH 58: Avg losses: train: 2.082, val: 2.258\n",
      "EPOCH 59: Avg losses: train: 2.082, val: 2.264\n",
      "EPOCH 60: Avg losses: train: 2.083, val: 2.259\n"
     ]
    }
   ],
   "source": [
    "num_users = train.user_id.max()\n",
    "num_items = train.item_id.max()\n",
    "model = MatrixFactorization(num_users, num_items, k=80)\n",
    "mf_trainer = MFTrainer(train, test, model, epochs=60, lr=0.002, reg=0.001, batch_size=128)\n",
    "mf_trainer.train_model()"
   ],
   "metadata": {
    "collapsed": false,
    "pycharm": {
     "name": "#%%\n"
    }
   }
  },
  {
   "cell_type": "code",
   "execution_count": 7,
   "outputs": [
    {
     "ename": "NameError",
     "evalue": "name 'np' is not defined",
     "output_type": "error",
     "traceback": [
      "\u001B[1;31m---------------------------------------------------------------------------\u001B[0m",
      "\u001B[1;31mNameError\u001B[0m                                 Traceback (most recent call last)",
      "Input \u001B[1;32mIn [7]\u001B[0m, in \u001B[0;36m<module>\u001B[1;34m\u001B[0m\n\u001B[0;32m      1\u001B[0m \u001B[38;5;28;01mfrom\u001B[39;00m \u001B[38;5;21;01mutils\u001B[39;00m\u001B[38;5;21;01m.\u001B[39;00m\u001B[38;5;21;01mplots\u001B[39;00m \u001B[38;5;28;01mimport\u001B[39;00m plot_train_history\n\u001B[1;32m----> 3\u001B[0m \u001B[43mplot_train_history\u001B[49m\u001B[43m(\u001B[49m\u001B[43mmf_trainer\u001B[49m\u001B[38;5;241;43m.\u001B[39;49m\u001B[43mtrain_losses\u001B[49m\u001B[43m,\u001B[49m\u001B[43m \u001B[49m\u001B[43mmf_trainer\u001B[49m\u001B[38;5;241;43m.\u001B[39;49m\u001B[43mval_losses\u001B[49m\u001B[43m)\u001B[49m\n",
      "File \u001B[1;32m~\\DataspellProjects\\AutoRec\\utils\\plots.py:11\u001B[0m, in \u001B[0;36mplot_train_history\u001B[1;34m(train_loss, val_loss)\u001B[0m\n\u001B[0;32m      4\u001B[0m \u001B[38;5;28;01mdef\u001B[39;00m \u001B[38;5;21mplot_train_history\u001B[39m(train_loss:List[List[\u001B[38;5;28mfloat\u001B[39m]], val_loss:List[List[\u001B[38;5;28mfloat\u001B[39m]]) \u001B[38;5;241m-\u001B[39m\u001B[38;5;241m>\u001B[39m \u001B[38;5;28;01mNone\u001B[39;00m:\n\u001B[0;32m      5\u001B[0m     \u001B[38;5;124;03m\"\"\"\u001B[39;00m\n\u001B[0;32m      6\u001B[0m \u001B[38;5;124;03m    The function will print train and test avg loss per epoch\u001B[39;00m\n\u001B[0;32m      7\u001B[0m \u001B[38;5;124;03m    :param train_loss: List[List[float]] of train history, may include nans\u001B[39;00m\n\u001B[0;32m      8\u001B[0m \u001B[38;5;124;03m    :param val_loss: List[List[float]] of val history, may include nans\u001B[39;00m\n\u001B[0;32m      9\u001B[0m \u001B[38;5;124;03m    :return: None. Will print the train graph\u001B[39;00m\n\u001B[0;32m     10\u001B[0m \u001B[38;5;124;03m    \"\"\"\u001B[39;00m\n\u001B[1;32m---> 11\u001B[0m     train_loss \u001B[38;5;241m=\u001B[39m \u001B[43mnp\u001B[49m\u001B[38;5;241m.\u001B[39mnanmean(train_loss, axis\u001B[38;5;241m=\u001B[39m\u001B[38;5;241m1\u001B[39m)\n\u001B[0;32m     12\u001B[0m     val_loss \u001B[38;5;241m=\u001B[39m np\u001B[38;5;241m.\u001B[39mnanmean(val_loss, axis\u001B[38;5;241m=\u001B[39m\u001B[38;5;241m1\u001B[39m)\n\u001B[0;32m     14\u001B[0m     plt\u001B[38;5;241m.\u001B[39mfigure(figsize\u001B[38;5;241m=\u001B[39m(\u001B[38;5;241m10\u001B[39m,\u001B[38;5;241m6\u001B[39m))\n",
      "\u001B[1;31mNameError\u001B[0m: name 'np' is not defined"
     ]
    }
   ],
   "source": [
    "from utils.plots import plot_train_history\n",
    "\n",
    "plot_train_history(mf_trainer.train_losses, mf_trainer.val_losses)"
   ],
   "metadata": {
    "collapsed": false,
    "pycharm": {
     "name": "#%%\n"
    }
   }
  },
  {
   "cell_type": "code",
   "execution_count": 4,
   "outputs": [],
   "source": [
    "from src.data_prep import movielens_create_ratings\n",
    "train, test = movielens_create_ratings(1)"
   ],
   "metadata": {
    "collapsed": false,
    "pycharm": {
     "name": "#%%\n"
    }
   }
  },
  {
   "cell_type": "code",
   "execution_count": 5,
   "outputs": [],
   "source": [
    "from src.autorec.model import AutoRec\n",
    "from src.autorec.training import AutoRecTrainer"
   ],
   "metadata": {
    "collapsed": false,
    "pycharm": {
     "name": "#%%\n"
    }
   }
  },
  {
   "cell_type": "code",
   "execution_count": 6,
   "outputs": [],
   "source": [
    "num_users, num_items = train.shape\n",
    "model = AutoRec(num_hidden=512, num_features=num_users)"
   ],
   "metadata": {
    "collapsed": false,
    "pycharm": {
     "name": "#%%\n"
    }
   }
  },
  {
   "cell_type": "code",
   "execution_count": 7,
   "outputs": [
    {
     "name": "stdout",
     "output_type": "stream",
     "text": [
      "EPOCH 1: Avg losses: train: 1.647, val: 1.098\n",
      "EPOCH 2: Avg losses: train: 1.017, val: 0.980\n",
      "EPOCH 3: Avg losses: train: 0.948, val: 0.970\n",
      "EPOCH 4: Avg losses: train: 0.916, val: 0.926\n",
      "EPOCH 5: Avg losses: train: 0.894, val: 0.918\n",
      "EPOCH 6: Avg losses: train: 0.872, val: 0.900\n",
      "EPOCH 7: Avg losses: train: 0.859, val: 0.887\n",
      "EPOCH 8: Avg losses: train: 0.842, val: 0.887\n",
      "EPOCH 9: Avg losses: train: 0.830, val: 0.864\n",
      "EPOCH 10: Avg losses: train: 0.817, val: 0.861\n",
      "EPOCH 11: Avg losses: train: 0.806, val: 0.862\n",
      "EPOCH 12: Avg losses: train: 0.798, val: 0.852\n",
      "EPOCH 13: Avg losses: train: 0.787, val: 0.847\n",
      "EPOCH 14: Avg losses: train: 0.781, val: 0.844\n",
      "EPOCH 15: Avg losses: train: 0.773, val: 0.857\n",
      "EPOCH 16: Avg losses: train: 0.768, val: 0.834\n",
      "EPOCH 17: Avg losses: train: 0.756, val: 0.833\n",
      "EPOCH 18: Avg losses: train: 0.750, val: 0.810\n",
      "EPOCH 19: Avg losses: train: 0.741, val: 0.817\n",
      "EPOCH 20: Avg losses: train: 0.733, val: 0.824\n",
      "EPOCH 21: Avg losses: train: 0.724, val: 0.824\n",
      "EPOCH 22: Avg losses: train: 0.723, val: 0.813\n",
      "EPOCH 23: Avg losses: train: 0.714, val: 0.819\n",
      "EPOCH 24: Avg losses: train: 0.709, val: 0.828\n",
      "EPOCH 25: Avg losses: train: 0.708, val: 0.813\n",
      "EPOCH 26: Avg losses: train: 0.702, val: 0.803\n",
      "EPOCH 27: Avg losses: train: 0.696, val: 0.806\n",
      "EPOCH 28: Avg losses: train: 0.688, val: 0.812\n",
      "EPOCH 29: Avg losses: train: 0.683, val: 0.796\n",
      "EPOCH 30: Avg losses: train: 0.675, val: 0.808\n",
      "EPOCH 31: Avg losses: train: 0.669, val: 0.800\n",
      "EPOCH 32: Avg losses: train: 0.664, val: 0.807\n",
      "EPOCH 33: Avg losses: train: 0.660, val: 0.781\n",
      "EPOCH 34: Avg losses: train: 0.657, val: 0.796\n",
      "EPOCH 35: Avg losses: train: 0.650, val: 0.793\n",
      "EPOCH 36: Avg losses: train: 0.648, val: 0.789\n",
      "EPOCH 37: Avg losses: train: 0.645, val: 0.791\n",
      "EPOCH 38: Avg losses: train: 0.638, val: 0.776\n",
      "EPOCH 39: Avg losses: train: 0.635, val: 0.775\n",
      "EPOCH 40: Avg losses: train: 0.629, val: 0.786\n",
      "EPOCH 41: Avg losses: train: 0.630, val: 0.788\n",
      "EPOCH 42: Avg losses: train: 0.625, val: 0.783\n",
      "EPOCH 43: Avg losses: train: 0.621, val: 0.769\n",
      "EPOCH 44: Avg losses: train: 0.618, val: 0.779\n",
      "EPOCH 45: Avg losses: train: 0.614, val: 0.773\n",
      "EPOCH 46: Avg losses: train: 0.609, val: 0.779\n",
      "EPOCH 47: Avg losses: train: 0.610, val: 0.778\n",
      "EPOCH 48: Avg losses: train: 0.608, val: 0.765\n",
      "EPOCH 49: Avg losses: train: 0.604, val: 0.771\n",
      "EPOCH 50: Avg losses: train: 0.600, val: 0.774\n",
      "EPOCH 51: Avg losses: train: 0.598, val: 0.767\n",
      "EPOCH 52: Avg losses: train: 0.595, val: 0.766\n",
      "EPOCH 53: Avg losses: train: 0.594, val: 0.767\n",
      "EPOCH 54: Avg losses: train: 0.592, val: 0.769\n",
      "EPOCH 55: Avg losses: train: 0.590, val: 0.761\n",
      "EPOCH 56: Avg losses: train: 0.588, val: 0.770\n",
      "EPOCH 57: Avg losses: train: 0.588, val: 0.768\n",
      "EPOCH 58: Avg losses: train: 0.583, val: 0.762\n",
      "EPOCH 59: Avg losses: train: 0.578, val: 0.776\n",
      "EPOCH 60: Avg losses: train: 0.574, val: 0.774\n"
     ]
    },
    {
     "data": {
      "text/plain": "<Figure size 720x432 with 1 Axes>",
      "image/png": "[encoded data removed]"
     },
     "metadata": {
      "needs_background": "light"
     },
     "output_type": "display_data"
    }
   ],
   "source": [
    "from utils.plots import plot_train_history\n",
    "autorec_trainer = AutoRecTrainer(train, test, model, epochs=60, batch_size=64, lr=0.001, reg=0.001)\n",
    "autorec_trainer.train_model()\n",
    "plot_train_history(autorec_trainer.train_losses, autorec_trainer.val_losses)"
   ],
   "metadata": {
    "collapsed": false,
    "pycharm": {
     "name": "#%%\n"
    }
   }
  }
 ],
 "metadata": {
  "kernelspec": {
   "display_name": "Python 3",
   "language": "python",
   "name": "python3"
  },
  "language_info": {
   "codemirror_mode": {
    "name": "ipython",
    "version": 2
   },
   "file_extension": ".py",
   "mimetype": "text/x-python",
   "name": "python",
   "nbconvert_exporter": "python",
   "pygments_lexer": "ipython2",
   "version": "2.7.6"
  }
 },
 "nbformat": 4,
 "nbformat_minor": 0
}