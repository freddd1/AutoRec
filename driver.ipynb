{
 "cells": [
  {
   "cell_type": "markdown",
   "metadata": {
    "pycharm": {
     "name": "#%% md\n"
    }
   },
   "source": [
    "# AutoRec cs3639 Recommendation Systems course IDC"
   ]
  },
  {
   "cell_type": "markdown",
   "metadata": {
    "pycharm": {
     "name": "#%% md\n"
    }
   },
   "source": [
    "### here will be general explanations"
   ]
  },
  {
   "cell_type": "code",
   "execution_count": 1,
   "metadata": {
    "pycharm": {
     "name": "#%%\n"
    }
   },
   "outputs": [],
   "source": [
    "import numpy as np\n",
    "import pandas as pd\n",
    "import torch\n",
    "import json\n",
    "from time import time\n",
    "from utils.plots import plot_train_history\n",
    "from utils.models_results import models_results"
   ]
  },
  {
   "cell_type": "code",
   "execution_count": 2,
   "metadata": {
    "pycharm": {
     "name": "#%%\n"
    }
   },
   "outputs": [
    {
     "name": "stdout",
     "output_type": "stream",
     "text": [
      "Using device: cuda\n"
     ]
    }
   ],
   "source": [
    "device = torch.device('cuda' if torch.cuda.is_available() else 'cpu')\n",
    "print('Using device:', device)"
   ]
  },
  {
   "cell_type": "markdown",
   "metadata": {
    "pycharm": {
     "name": "#%% md\n"
    }
   },
   "source": [
    "## datasets"
   ]
  },
  {
   "cell_type": "markdown",
   "metadata": {
    "pycharm": {
     "name": "#%% md\n"
    }
   },
   "source": [
    "In this project, we will use 2 datasets:\n",
    "* **movielens**, which can be downloaded using `utils.datasets_download.py` or straight from [here](http://files.grouplens.org/datasets/movielens/).\n",
    "* **netflixprize**, which can be downloaded from this [semi-parsed version from kaggle](https://www.kaggle.com/netflix-inc/netflix-prize-data) or from this [raw version](https://archive.org/download/nf_prize_dataset.tar)\n",
    "\n",
    "**NOTE**: for the notebook to run properly, you should save you dataset under `data` folder and `movielens` folder for the movielens dataset and `netflix` folder for the netflixprize dataset.\n",
    "i.e `data/movielens` folder and `data/netflix` folder respectively."
   ]
  },
  {
   "cell_type": "markdown",
   "metadata": {
    "pycharm": {
     "name": "#%% md\n"
    }
   },
   "source": [
    "# Matrix Factorization"
   ]
  },
  {
   "cell_type": "code",
   "execution_count": 3,
   "metadata": {
    "pycharm": {
     "name": "#%%\n"
    }
   },
   "outputs": [],
   "source": [
    "from src.mf.model import MatrixFactorization\n",
    "from src.mf.training import MFTrainer"
   ]
  },
  {
   "cell_type": "code",
   "execution_count": 4,
   "metadata": {
    "pycharm": {
     "name": "#%%\n"
    }
   },
   "outputs": [
    {
     "name": "stdout",
     "output_type": "stream",
     "text": [
      "(80000, 4)\n"
     ]
    },
    {
     "data": {
      "text/plain": "       user_id  item_id  rating  timestamp\n0            0        0       5  874965758\n1            0        1       3  876893171\n2            0        2       4  878542960\n3            0        3       3  876893119\n4            0        4       3  889751712\n...        ...      ...     ...        ...\n79995      942     1066       2  875501756\n79996      942     1073       4  888640250\n79997      942     1187       3  888640250\n79998      942     1227       3  888640275\n79999      942     1329       3  888692465\n\n[80000 rows x 4 columns]",
      "text/html": "<div>\n<style scoped>\n    .dataframe tbody tr th:only-of-type {\n        vertical-align: middle;\n    }\n\n    .dataframe tbody tr th {\n        vertical-align: top;\n    }\n\n    .dataframe thead th {\n        text-align: right;\n    }\n</style>\n<table border=\"1\" class=\"dataframe\">\n  <thead>\n    <tr style=\"text-align: right;\">\n      <th></th>\n      <th>user_id</th>\n      <th>item_id</th>\n      <th>rating</th>\n      <th>timestamp</th>\n    </tr>\n  </thead>\n  <tbody>\n    <tr>\n      <th>0</th>\n      <td>0</td>\n      <td>0</td>\n      <td>5</td>\n      <td>874965758</td>\n    </tr>\n    <tr>\n      <th>1</th>\n      <td>0</td>\n      <td>1</td>\n      <td>3</td>\n      <td>876893171</td>\n    </tr>\n    <tr>\n      <th>2</th>\n      <td>0</td>\n      <td>2</td>\n      <td>4</td>\n      <td>878542960</td>\n    </tr>\n    <tr>\n      <th>3</th>\n      <td>0</td>\n      <td>3</td>\n      <td>3</td>\n      <td>876893119</td>\n    </tr>\n    <tr>\n      <th>4</th>\n      <td>0</td>\n      <td>4</td>\n      <td>3</td>\n      <td>889751712</td>\n    </tr>\n    <tr>\n      <th>...</th>\n      <td>...</td>\n      <td>...</td>\n      <td>...</td>\n      <td>...</td>\n    </tr>\n    <tr>\n      <th>79995</th>\n      <td>942</td>\n      <td>1066</td>\n      <td>2</td>\n      <td>875501756</td>\n    </tr>\n    <tr>\n      <th>79996</th>\n      <td>942</td>\n      <td>1073</td>\n      <td>4</td>\n      <td>888640250</td>\n    </tr>\n    <tr>\n      <th>79997</th>\n      <td>942</td>\n      <td>1187</td>\n      <td>3</td>\n      <td>888640250</td>\n    </tr>\n    <tr>\n      <th>79998</th>\n      <td>942</td>\n      <td>1227</td>\n      <td>3</td>\n      <td>888640275</td>\n    </tr>\n    <tr>\n      <th>79999</th>\n      <td>942</td>\n      <td>1329</td>\n      <td>3</td>\n      <td>888692465</td>\n    </tr>\n  </tbody>\n</table>\n<p>80000 rows × 4 columns</p>\n</div>"
     },
     "execution_count": 4,
     "metadata": {},
     "output_type": "execute_result"
    }
   ],
   "source": [
    "from src.data_prep import movielens_load\n",
    "train, test = movielens_load(1)\n",
    "print(train.shape)\n",
    "train"
   ]
  },
  {
   "cell_type": "code",
   "execution_count": 5,
   "metadata": {
    "pycharm": {
     "name": "#%%\n"
    }
   },
   "outputs": [],
   "source": [
    "# If you wish to find hyper params run `mf_hyper_params` with `find=True`\n",
    "# It will save the params and losses to models_params folder\n",
    "# Otherwise it will return a df with the already run models\n",
    "\n",
    "epochs = 60\n",
    "batch_size = 64\n",
    "\n",
    "def mf_hyper_params(find=False):\n",
    "    if find:\n",
    "        for k in [10, 15, 20, 50, 100]:\n",
    "            for lr in [0.001, 0.003, 0.005]:\n",
    "                for reg in [0.001, 0.003, 0.005]:\n",
    "                    print(f'STARTING TRAIN MF with k: {k}, lr: {lr}, reg: {reg}')\n",
    "                    start_time = time()\n",
    "                    model_dict = {}\n",
    "                    num_users = train.user_id.max() + 1\n",
    "                    num_items = train.item_id.max() + 1\n",
    "\n",
    "                    # Init model and trainer\n",
    "                    model = MatrixFactorization(num_users, num_items, k=k)\n",
    "                    mf_trainer = MFTrainer(train, test, model, epochs=epochs, lr=lr, reg=reg, batch_size=batch_size)\n",
    "\n",
    "                    # Train\n",
    "                    mf_trainer.train_model()\n",
    "\n",
    "                    # Save parmas to model_dict\n",
    "                    model_dict['model_params'] = model.params()\n",
    "                    model_dict.update(mf_trainer.params())\n",
    "                    model_dict['train_losses'] = mf_trainer.train_losses\n",
    "                    model_dict['val_losses'] = mf_trainer.val_losses\n",
    "\n",
    "                    # Save model params to json file\n",
    "                    file_name = f'models_params/MF_{k}_{lr}_{reg}'\n",
    "                    with open(file_name, 'w') as f:\n",
    "                        json.dump(model_dict, f, indent=4)\n",
    "\n",
    "                    plot_train_history(mf_trainer.train_losses, mf_trainer.val_losses)\n",
    "                    print(f'model train time: {time() - start_time:.3f}\\n')\n",
    "        return\n",
    "    else:\n",
    "        return models_results('MF')\n"
   ]
  },
  {
   "cell_type": "code",
   "execution_count": 6,
   "outputs": [
    {
     "data": {
      "text/plain": "            model_name  train_loss  val_loss  \\\n9    MF_10_0.001_0.001    0.428094  0.460347   \n18   MF_15_0.001_0.001    0.428838  0.460788   \n27   MF_20_0.001_0.001    0.429123  0.461021   \n12   MF_10_0.003_0.001    0.429552  0.461221   \n30   MF_20_0.003_0.001    0.429931  0.461431   \n36   MF_50_0.001_0.001    0.430148  0.461547   \n0   MF_100_0.001_0.001    0.430910  0.462082   \n15   MF_10_0.005_0.001    0.431693  0.462411   \n33   MF_20_0.005_0.001    0.431725  0.462419   \n6   MF_100_0.005_0.001    0.431725  0.462502   \n21   MF_15_0.003_0.001    0.431764  0.462514   \n3   MF_100_0.003_0.001    0.432388  0.463029   \n39   MF_50_0.003_0.001    0.432518  0.463062   \n42   MF_50_0.005_0.001    0.433446  0.463863   \n24   MF_15_0.005_0.001    0.433527  0.463921   \n13   MF_10_0.003_0.003    0.690572  0.695706   \n16   MF_10_0.005_0.003    0.690573  0.695706   \n17   MF_10_0.005_0.005    0.690572  0.695706   \n10   MF_10_0.001_0.003    0.690572  0.695706   \n28   MF_20_0.001_0.003    0.690572  0.695706   \n20   MF_15_0.001_0.005    0.690572  0.695706   \n29   MF_20_0.001_0.005    0.690572  0.695706   \n19   MF_15_0.001_0.003    0.690572  0.695706   \n11   MF_10_0.001_0.005    0.690572  0.695706   \n38   MF_50_0.001_0.005    0.690572  0.695706   \n23   MF_15_0.003_0.005    0.690572  0.695706   \n2   MF_100_0.001_0.005    0.690572  0.695706   \n1   MF_100_0.001_0.003    0.690572  0.695706   \n14   MF_10_0.003_0.005    0.690572  0.695706   \n37   MF_50_0.001_0.003    0.690572  0.695706   \n22   MF_15_0.003_0.003    0.690572  0.695706   \n32   MF_20_0.003_0.005    0.690572  0.695706   \n26   MF_15_0.005_0.005    0.690572  0.695706   \n5   MF_100_0.003_0.005    0.690572  0.695706   \n41   MF_50_0.003_0.005    0.690572  0.695706   \n35   MF_20_0.005_0.005    0.690572  0.695706   \n40   MF_50_0.003_0.003    0.690572  0.695706   \n31   MF_20_0.003_0.003    0.690572  0.695706   \n44   MF_50_0.005_0.005    0.690572  0.695706   \n25   MF_15_0.005_0.003    0.690572  0.695707   \n8   MF_100_0.005_0.005    0.690572  0.695707   \n34   MF_20_0.005_0.003    0.690572  0.695707   \n4   MF_100_0.003_0.003    0.690572  0.695707   \n7   MF_100_0.005_0.003    0.690571  0.695707   \n43   MF_50_0.005_0.003    0.690572  0.695707   \n\n                                               params  \n9   {'model_params': {'k': 10}, 'seed': 14, 'epoch...  \n18  {'model_params': {'k': 15}, 'seed': 14, 'epoch...  \n27  {'model_params': {'k': 20}, 'seed': 14, 'epoch...  \n12  {'model_params': {'k': 10}, 'seed': 14, 'epoch...  \n30  {'model_params': {'k': 20}, 'seed': 14, 'epoch...  \n36  {'model_params': {'k': 50}, 'seed': 14, 'epoch...  \n0   {'model_params': {'k': 100}, 'seed': 14, 'epoc...  \n15  {'model_params': {'k': 10}, 'seed': 14, 'epoch...  \n33  {'model_params': {'k': 20}, 'seed': 14, 'epoch...  \n6   {'model_params': {'k': 100}, 'seed': 14, 'epoc...  \n21  {'model_params': {'k': 15}, 'seed': 14, 'epoch...  \n3   {'model_params': {'k': 100}, 'seed': 14, 'epoc...  \n39  {'model_params': {'k': 50}, 'seed': 14, 'epoch...  \n42  {'model_params': {'k': 50}, 'seed': 14, 'epoch...  \n24  {'model_params': {'k': 15}, 'seed': 14, 'epoch...  \n13  {'model_params': {'k': 10}, 'seed': 14, 'epoch...  \n16  {'model_params': {'k': 10}, 'seed': 14, 'epoch...  \n17  {'model_params': {'k': 10}, 'seed': 14, 'epoch...  \n10  {'model_params': {'k': 10}, 'seed': 14, 'epoch...  \n28  {'model_params': {'k': 20}, 'seed': 14, 'epoch...  \n20  {'model_params': {'k': 15}, 'seed': 14, 'epoch...  \n29  {'model_params': {'k': 20}, 'seed': 14, 'epoch...  \n19  {'model_params': {'k': 15}, 'seed': 14, 'epoch...  \n11  {'model_params': {'k': 10}, 'seed': 14, 'epoch...  \n38  {'model_params': {'k': 50}, 'seed': 14, 'epoch...  \n23  {'model_params': {'k': 15}, 'seed': 14, 'epoch...  \n2   {'model_params': {'k': 100}, 'seed': 14, 'epoc...  \n1   {'model_params': {'k': 100}, 'seed': 14, 'epoc...  \n14  {'model_params': {'k': 10}, 'seed': 14, 'epoch...  \n37  {'model_params': {'k': 50}, 'seed': 14, 'epoch...  \n22  {'model_params': {'k': 15}, 'seed': 14, 'epoch...  \n32  {'model_params': {'k': 20}, 'seed': 14, 'epoch...  \n26  {'model_params': {'k': 15}, 'seed': 14, 'epoch...  \n5   {'model_params': {'k': 100}, 'seed': 14, 'epoc...  \n41  {'model_params': {'k': 50}, 'seed': 14, 'epoch...  \n35  {'model_params': {'k': 20}, 'seed': 14, 'epoch...  \n40  {'model_params': {'k': 50}, 'seed': 14, 'epoch...  \n31  {'model_params': {'k': 20}, 'seed': 14, 'epoch...  \n44  {'model_params': {'k': 50}, 'seed': 14, 'epoch...  \n25  {'model_params': {'k': 15}, 'seed': 14, 'epoch...  \n8   {'model_params': {'k': 100}, 'seed': 14, 'epoc...  \n34  {'model_params': {'k': 20}, 'seed': 14, 'epoch...  \n4   {'model_params': {'k': 100}, 'seed': 14, 'epoc...  \n7   {'model_params': {'k': 100}, 'seed': 14, 'epoc...  \n43  {'model_params': {'k': 50}, 'seed': 14, 'epoch...  ",
      "text/html": "<div>\n<style scoped>\n    .dataframe tbody tr th:only-of-type {\n        vertical-align: middle;\n    }\n\n    .dataframe tbody tr th {\n        vertical-align: top;\n    }\n\n    .dataframe thead th {\n        text-align: right;\n    }\n</style>\n<table border=\"1\" class=\"dataframe\">\n  <thead>\n    <tr style=\"text-align: right;\">\n      <th></th>\n      <th>model_name</th>\n      <th>train_loss</th>\n      <th>val_loss</th>\n      <th>params</th>\n    </tr>\n  </thead>\n  <tbody>\n    <tr>\n      <th>9</th>\n      <td>MF_10_0.001_0.001</td>\n      <td>0.428094</td>\n      <td>0.460347</td>\n      <td>{'model_params': {'k': 10}, 'seed': 14, 'epoch...</td>\n    </tr>\n    <tr>\n      <th>18</th>\n      <td>MF_15_0.001_0.001</td>\n      <td>0.428838</td>\n      <td>0.460788</td>\n      <td>{'model_params': {'k': 15}, 'seed': 14, 'epoch...</td>\n    </tr>\n    <tr>\n      <th>27</th>\n      <td>MF_20_0.001_0.001</td>\n      <td>0.429123</td>\n      <td>0.461021</td>\n      <td>{'model_params': {'k': 20}, 'seed': 14, 'epoch...</td>\n    </tr>\n    <tr>\n      <th>12</th>\n      <td>MF_10_0.003_0.001</td>\n      <td>0.429552</td>\n      <td>0.461221</td>\n      <td>{'model_params': {'k': 10}, 'seed': 14, 'epoch...</td>\n    </tr>\n    <tr>\n      <th>30</th>\n      <td>MF_20_0.003_0.001</td>\n      <td>0.429931</td>\n      <td>0.461431</td>\n      <td>{'model_params': {'k': 20}, 'seed': 14, 'epoch...</td>\n    </tr>\n    <tr>\n      <th>36</th>\n      <td>MF_50_0.001_0.001</td>\n      <td>0.430148</td>\n      <td>0.461547</td>\n      <td>{'model_params': {'k': 50}, 'seed': 14, 'epoch...</td>\n    </tr>\n    <tr>\n      <th>0</th>\n      <td>MF_100_0.001_0.001</td>\n      <td>0.430910</td>\n      <td>0.462082</td>\n      <td>{'model_params': {'k': 100}, 'seed': 14, 'epoc...</td>\n    </tr>\n    <tr>\n      <th>15</th>\n      <td>MF_10_0.005_0.001</td>\n      <td>0.431693</td>\n      <td>0.462411</td>\n      <td>{'model_params': {'k': 10}, 'seed': 14, 'epoch...</td>\n    </tr>\n    <tr>\n      <th>33</th>\n      <td>MF_20_0.005_0.001</td>\n      <td>0.431725</td>\n      <td>0.462419</td>\n      <td>{'model_params': {'k': 20}, 'seed': 14, 'epoch...</td>\n    </tr>\n    <tr>\n      <th>6</th>\n      <td>MF_100_0.005_0.001</td>\n      <td>0.431725</td>\n      <td>0.462502</td>\n      <td>{'model_params': {'k': 100}, 'seed': 14, 'epoc...</td>\n    </tr>\n    <tr>\n      <th>21</th>\n      <td>MF_15_0.003_0.001</td>\n      <td>0.431764</td>\n      <td>0.462514</td>\n      <td>{'model_params': {'k': 15}, 'seed': 14, 'epoch...</td>\n    </tr>\n    <tr>\n      <th>3</th>\n      <td>MF_100_0.003_0.001</td>\n      <td>0.432388</td>\n      <td>0.463029</td>\n      <td>{'model_params': {'k': 100}, 'seed': 14, 'epoc...</td>\n    </tr>\n    <tr>\n      <th>39</th>\n      <td>MF_50_0.003_0.001</td>\n      <td>0.432518</td>\n      <td>0.463062</td>\n      <td>{'model_params': {'k': 50}, 'seed': 14, 'epoch...</td>\n    </tr>\n    <tr>\n      <th>42</th>\n      <td>MF_50_0.005_0.001</td>\n      <td>0.433446</td>\n      <td>0.463863</td>\n      <td>{'model_params': {'k': 50}, 'seed': 14, 'epoch...</td>\n    </tr>\n    <tr>\n      <th>24</th>\n      <td>MF_15_0.005_0.001</td>\n      <td>0.433527</td>\n      <td>0.463921</td>\n      <td>{'model_params': {'k': 15}, 'seed': 14, 'epoch...</td>\n    </tr>\n    <tr>\n      <th>13</th>\n      <td>MF_10_0.003_0.003</td>\n      <td>0.690572</td>\n      <td>0.695706</td>\n      <td>{'model_params': {'k': 10}, 'seed': 14, 'epoch...</td>\n    </tr>\n    <tr>\n      <th>16</th>\n      <td>MF_10_0.005_0.003</td>\n      <td>0.690573</td>\n      <td>0.695706</td>\n      <td>{'model_params': {'k': 10}, 'seed': 14, 'epoch...</td>\n    </tr>\n    <tr>\n      <th>17</th>\n      <td>MF_10_0.005_0.005</td>\n      <td>0.690572</td>\n      <td>0.695706</td>\n      <td>{'model_params': {'k': 10}, 'seed': 14, 'epoch...</td>\n    </tr>\n    <tr>\n      <th>10</th>\n      <td>MF_10_0.001_0.003</td>\n      <td>0.690572</td>\n      <td>0.695706</td>\n      <td>{'model_params': {'k': 10}, 'seed': 14, 'epoch...</td>\n    </tr>\n    <tr>\n      <th>28</th>\n      <td>MF_20_0.001_0.003</td>\n      <td>0.690572</td>\n      <td>0.695706</td>\n      <td>{'model_params': {'k': 20}, 'seed': 14, 'epoch...</td>\n    </tr>\n    <tr>\n      <th>20</th>\n      <td>MF_15_0.001_0.005</td>\n      <td>0.690572</td>\n      <td>0.695706</td>\n      <td>{'model_params': {'k': 15}, 'seed': 14, 'epoch...</td>\n    </tr>\n    <tr>\n      <th>29</th>\n      <td>MF_20_0.001_0.005</td>\n      <td>0.690572</td>\n      <td>0.695706</td>\n      <td>{'model_params': {'k': 20}, 'seed': 14, 'epoch...</td>\n    </tr>\n    <tr>\n      <th>19</th>\n      <td>MF_15_0.001_0.003</td>\n      <td>0.690572</td>\n      <td>0.695706</td>\n      <td>{'model_params': {'k': 15}, 'seed': 14, 'epoch...</td>\n    </tr>\n    <tr>\n      <th>11</th>\n      <td>MF_10_0.001_0.005</td>\n      <td>0.690572</td>\n      <td>0.695706</td>\n      <td>{'model_params': {'k': 10}, 'seed': 14, 'epoch...</td>\n    </tr>\n    <tr>\n      <th>38</th>\n      <td>MF_50_0.001_0.005</td>\n      <td>0.690572</td>\n      <td>0.695706</td>\n      <td>{'model_params': {'k': 50}, 'seed': 14, 'epoch...</td>\n    </tr>\n    <tr>\n      <th>23</th>\n      <td>MF_15_0.003_0.005</td>\n      <td>0.690572</td>\n      <td>0.695706</td>\n      <td>{'model_params': {'k': 15}, 'seed': 14, 'epoch...</td>\n    </tr>\n    <tr>\n      <th>2</th>\n      <td>MF_100_0.001_0.005</td>\n      <td>0.690572</td>\n      <td>0.695706</td>\n      <td>{'model_params': {'k': 100}, 'seed': 14, 'epoc...</td>\n    </tr>\n    <tr>\n      <th>1</th>\n      <td>MF_100_0.001_0.003</td>\n      <td>0.690572</td>\n      <td>0.695706</td>\n      <td>{'model_params': {'k': 100}, 'seed': 14, 'epoc...</td>\n    </tr>\n    <tr>\n      <th>14</th>\n      <td>MF_10_0.003_0.005</td>\n      <td>0.690572</td>\n      <td>0.695706</td>\n      <td>{'model_params': {'k': 10}, 'seed': 14, 'epoch...</td>\n    </tr>\n    <tr>\n      <th>37</th>\n      <td>MF_50_0.001_0.003</td>\n      <td>0.690572</td>\n      <td>0.695706</td>\n      <td>{'model_params': {'k': 50}, 'seed': 14, 'epoch...</td>\n    </tr>\n    <tr>\n      <th>22</th>\n      <td>MF_15_0.003_0.003</td>\n      <td>0.690572</td>\n      <td>0.695706</td>\n      <td>{'model_params': {'k': 15}, 'seed': 14, 'epoch...</td>\n    </tr>\n    <tr>\n      <th>32</th>\n      <td>MF_20_0.003_0.005</td>\n      <td>0.690572</td>\n      <td>0.695706</td>\n      <td>{'model_params': {'k': 20}, 'seed': 14, 'epoch...</td>\n    </tr>\n    <tr>\n      <th>26</th>\n      <td>MF_15_0.005_0.005</td>\n      <td>0.690572</td>\n      <td>0.695706</td>\n      <td>{'model_params': {'k': 15}, 'seed': 14, 'epoch...</td>\n    </tr>\n    <tr>\n      <th>5</th>\n      <td>MF_100_0.003_0.005</td>\n      <td>0.690572</td>\n      <td>0.695706</td>\n      <td>{'model_params': {'k': 100}, 'seed': 14, 'epoc...</td>\n    </tr>\n    <tr>\n      <th>41</th>\n      <td>MF_50_0.003_0.005</td>\n      <td>0.690572</td>\n      <td>0.695706</td>\n      <td>{'model_params': {'k': 50}, 'seed': 14, 'epoch...</td>\n    </tr>\n    <tr>\n      <th>35</th>\n      <td>MF_20_0.005_0.005</td>\n      <td>0.690572</td>\n      <td>0.695706</td>\n      <td>{'model_params': {'k': 20}, 'seed': 14, 'epoch...</td>\n    </tr>\n    <tr>\n      <th>40</th>\n      <td>MF_50_0.003_0.003</td>\n      <td>0.690572</td>\n      <td>0.695706</td>\n      <td>{'model_params': {'k': 50}, 'seed': 14, 'epoch...</td>\n    </tr>\n    <tr>\n      <th>31</th>\n      <td>MF_20_0.003_0.003</td>\n      <td>0.690572</td>\n      <td>0.695706</td>\n      <td>{'model_params': {'k': 20}, 'seed': 14, 'epoch...</td>\n    </tr>\n    <tr>\n      <th>44</th>\n      <td>MF_50_0.005_0.005</td>\n      <td>0.690572</td>\n      <td>0.695706</td>\n      <td>{'model_params': {'k': 50}, 'seed': 14, 'epoch...</td>\n    </tr>\n    <tr>\n      <th>25</th>\n      <td>MF_15_0.005_0.003</td>\n      <td>0.690572</td>\n      <td>0.695707</td>\n      <td>{'model_params': {'k': 15}, 'seed': 14, 'epoch...</td>\n    </tr>\n    <tr>\n      <th>8</th>\n      <td>MF_100_0.005_0.005</td>\n      <td>0.690572</td>\n      <td>0.695707</td>\n      <td>{'model_params': {'k': 100}, 'seed': 14, 'epoc...</td>\n    </tr>\n    <tr>\n      <th>34</th>\n      <td>MF_20_0.005_0.003</td>\n      <td>0.690572</td>\n      <td>0.695707</td>\n      <td>{'model_params': {'k': 20}, 'seed': 14, 'epoch...</td>\n    </tr>\n    <tr>\n      <th>4</th>\n      <td>MF_100_0.003_0.003</td>\n      <td>0.690572</td>\n      <td>0.695707</td>\n      <td>{'model_params': {'k': 100}, 'seed': 14, 'epoc...</td>\n    </tr>\n    <tr>\n      <th>7</th>\n      <td>MF_100_0.005_0.003</td>\n      <td>0.690571</td>\n      <td>0.695707</td>\n      <td>{'model_params': {'k': 100}, 'seed': 14, 'epoc...</td>\n    </tr>\n    <tr>\n      <th>43</th>\n      <td>MF_50_0.005_0.003</td>\n      <td>0.690572</td>\n      <td>0.695707</td>\n      <td>{'model_params': {'k': 50}, 'seed': 14, 'epoch...</td>\n    </tr>\n  </tbody>\n</table>\n</div>"
     },
     "execution_count": 6,
     "metadata": {},
     "output_type": "execute_result"
    }
   ],
   "source": [
    "mf_results = mf_hyper_params(False)\n",
    "mf_results.sort_values(by='val_loss')"
   ],
   "metadata": {
    "collapsed": false,
    "pycharm": {
     "name": "#%%\n"
    }
   }
  },
  {
   "cell_type": "markdown",
   "metadata": {
    "pycharm": {
     "name": "#%% md\n"
    }
   },
   "source": [
    "# AutoRec"
   ]
  },
  {
   "cell_type": "code",
   "execution_count": 7,
   "metadata": {
    "pycharm": {
     "name": "#%%\n"
    }
   },
   "outputs": [
    {
     "data": {
      "text/plain": "     0     1     2     3     4     5     6     7     8     9     ...  1672  \\\n0       5     3     4     3     3     0     4     1     5     0  ...     0   \n1       4     0     0     0     0     0     0     0     0     2  ...     0   \n2       0     0     0     0     0     0     0     0     0     0  ...     0   \n3       0     0     0     0     0     0     0     0     0     0  ...     0   \n4       0     0     0     0     0     0     0     0     0     0  ...     0   \n..    ...   ...   ...   ...   ...   ...   ...   ...   ...   ...  ...   ...   \n938     0     0     0     0     0     0     0     0     5     0  ...     0   \n939     0     0     0     2     0     0     4     5     3     0  ...     0   \n940     5     0     0     0     0     0     4     0     0     0  ...     0   \n941     0     0     0     0     0     0     0     0     0     0  ...     0   \n942     0     5     0     0     0     0     0     0     3     0  ...     0   \n\n     1673  1674  1675  1676  1677  1678  1679  1680  1681  \n0       0     0     0     0     0     0     0     0     0  \n1       0     0     0     0     0     0     0     0     0  \n2       0     0     0     0     0     0     0     0     0  \n3       0     0     0     0     0     0     0     0     0  \n4       0     0     0     0     0     0     0     0     0  \n..    ...   ...   ...   ...   ...   ...   ...   ...   ...  \n938     0     0     0     0     0     0     0     0     0  \n939     0     0     0     0     0     0     0     0     0  \n940     0     0     0     0     0     0     0     0     0  \n941     0     0     0     0     0     0     0     0     0  \n942     0     0     0     0     0     0     0     0     0  \n\n[943 rows x 1682 columns]",
      "text/html": "<div>\n<style scoped>\n    .dataframe tbody tr th:only-of-type {\n        vertical-align: middle;\n    }\n\n    .dataframe tbody tr th {\n        vertical-align: top;\n    }\n\n    .dataframe thead th {\n        text-align: right;\n    }\n</style>\n<table border=\"1\" class=\"dataframe\">\n  <thead>\n    <tr style=\"text-align: right;\">\n      <th></th>\n      <th>0</th>\n      <th>1</th>\n      <th>2</th>\n      <th>3</th>\n      <th>4</th>\n      <th>5</th>\n      <th>6</th>\n      <th>7</th>\n      <th>8</th>\n      <th>9</th>\n      <th>...</th>\n      <th>1672</th>\n      <th>1673</th>\n      <th>1674</th>\n      <th>1675</th>\n      <th>1676</th>\n      <th>1677</th>\n      <th>1678</th>\n      <th>1679</th>\n      <th>1680</th>\n      <th>1681</th>\n    </tr>\n  </thead>\n  <tbody>\n    <tr>\n      <th>0</th>\n      <td>5</td>\n      <td>3</td>\n      <td>4</td>\n      <td>3</td>\n      <td>3</td>\n      <td>0</td>\n      <td>4</td>\n      <td>1</td>\n      <td>5</td>\n      <td>0</td>\n      <td>...</td>\n      <td>0</td>\n      <td>0</td>\n      <td>0</td>\n      <td>0</td>\n      <td>0</td>\n      <td>0</td>\n      <td>0</td>\n      <td>0</td>\n      <td>0</td>\n      <td>0</td>\n    </tr>\n    <tr>\n      <th>1</th>\n      <td>4</td>\n      <td>0</td>\n      <td>0</td>\n      <td>0</td>\n      <td>0</td>\n      <td>0</td>\n      <td>0</td>\n      <td>0</td>\n      <td>0</td>\n      <td>2</td>\n      <td>...</td>\n      <td>0</td>\n      <td>0</td>\n      <td>0</td>\n      <td>0</td>\n      <td>0</td>\n      <td>0</td>\n      <td>0</td>\n      <td>0</td>\n      <td>0</td>\n      <td>0</td>\n    </tr>\n    <tr>\n      <th>2</th>\n      <td>0</td>\n      <td>0</td>\n      <td>0</td>\n      <td>0</td>\n      <td>0</td>\n      <td>0</td>\n      <td>0</td>\n      <td>0</td>\n      <td>0</td>\n      <td>0</td>\n      <td>...</td>\n      <td>0</td>\n      <td>0</td>\n      <td>0</td>\n      <td>0</td>\n      <td>0</td>\n      <td>0</td>\n      <td>0</td>\n      <td>0</td>\n      <td>0</td>\n      <td>0</td>\n    </tr>\n    <tr>\n      <th>3</th>\n      <td>0</td>\n      <td>0</td>\n      <td>0</td>\n      <td>0</td>\n      <td>0</td>\n      <td>0</td>\n      <td>0</td>\n      <td>0</td>\n      <td>0</td>\n      <td>0</td>\n      <td>...</td>\n      <td>0</td>\n      <td>0</td>\n      <td>0</td>\n      <td>0</td>\n      <td>0</td>\n      <td>0</td>\n      <td>0</td>\n      <td>0</td>\n      <td>0</td>\n      <td>0</td>\n    </tr>\n    <tr>\n      <th>4</th>\n      <td>0</td>\n      <td>0</td>\n      <td>0</td>\n      <td>0</td>\n      <td>0</td>\n      <td>0</td>\n      <td>0</td>\n      <td>0</td>\n      <td>0</td>\n      <td>0</td>\n      <td>...</td>\n      <td>0</td>\n      <td>0</td>\n      <td>0</td>\n      <td>0</td>\n      <td>0</td>\n      <td>0</td>\n      <td>0</td>\n      <td>0</td>\n      <td>0</td>\n      <td>0</td>\n    </tr>\n    <tr>\n      <th>...</th>\n      <td>...</td>\n      <td>...</td>\n      <td>...</td>\n      <td>...</td>\n      <td>...</td>\n      <td>...</td>\n      <td>...</td>\n      <td>...</td>\n      <td>...</td>\n      <td>...</td>\n      <td>...</td>\n      <td>...</td>\n      <td>...</td>\n      <td>...</td>\n      <td>...</td>\n      <td>...</td>\n      <td>...</td>\n      <td>...</td>\n      <td>...</td>\n      <td>...</td>\n      <td>...</td>\n    </tr>\n    <tr>\n      <th>938</th>\n      <td>0</td>\n      <td>0</td>\n      <td>0</td>\n      <td>0</td>\n      <td>0</td>\n      <td>0</td>\n      <td>0</td>\n      <td>0</td>\n      <td>5</td>\n      <td>0</td>\n      <td>...</td>\n      <td>0</td>\n      <td>0</td>\n      <td>0</td>\n      <td>0</td>\n      <td>0</td>\n      <td>0</td>\n      <td>0</td>\n      <td>0</td>\n      <td>0</td>\n      <td>0</td>\n    </tr>\n    <tr>\n      <th>939</th>\n      <td>0</td>\n      <td>0</td>\n      <td>0</td>\n      <td>2</td>\n      <td>0</td>\n      <td>0</td>\n      <td>4</td>\n      <td>5</td>\n      <td>3</td>\n      <td>0</td>\n      <td>...</td>\n      <td>0</td>\n      <td>0</td>\n      <td>0</td>\n      <td>0</td>\n      <td>0</td>\n      <td>0</td>\n      <td>0</td>\n      <td>0</td>\n      <td>0</td>\n      <td>0</td>\n    </tr>\n    <tr>\n      <th>940</th>\n      <td>5</td>\n      <td>0</td>\n      <td>0</td>\n      <td>0</td>\n      <td>0</td>\n      <td>0</td>\n      <td>4</td>\n      <td>0</td>\n      <td>0</td>\n      <td>0</td>\n      <td>...</td>\n      <td>0</td>\n      <td>0</td>\n      <td>0</td>\n      <td>0</td>\n      <td>0</td>\n      <td>0</td>\n      <td>0</td>\n      <td>0</td>\n      <td>0</td>\n      <td>0</td>\n    </tr>\n    <tr>\n      <th>941</th>\n      <td>0</td>\n      <td>0</td>\n      <td>0</td>\n      <td>0</td>\n      <td>0</td>\n      <td>0</td>\n      <td>0</td>\n      <td>0</td>\n      <td>0</td>\n      <td>0</td>\n      <td>...</td>\n      <td>0</td>\n      <td>0</td>\n      <td>0</td>\n      <td>0</td>\n      <td>0</td>\n      <td>0</td>\n      <td>0</td>\n      <td>0</td>\n      <td>0</td>\n      <td>0</td>\n    </tr>\n    <tr>\n      <th>942</th>\n      <td>0</td>\n      <td>5</td>\n      <td>0</td>\n      <td>0</td>\n      <td>0</td>\n      <td>0</td>\n      <td>0</td>\n      <td>0</td>\n      <td>3</td>\n      <td>0</td>\n      <td>...</td>\n      <td>0</td>\n      <td>0</td>\n      <td>0</td>\n      <td>0</td>\n      <td>0</td>\n      <td>0</td>\n      <td>0</td>\n      <td>0</td>\n      <td>0</td>\n      <td>0</td>\n    </tr>\n  </tbody>\n</table>\n<p>943 rows × 1682 columns</p>\n</div>"
     },
     "execution_count": 7,
     "metadata": {},
     "output_type": "execute_result"
    }
   ],
   "source": [
    "from src.data_prep import movielens_create_ratings\n",
    "train, test = movielens_create_ratings(1)\n",
    "train"
   ]
  },
  {
   "cell_type": "code",
   "execution_count": 8,
   "metadata": {
    "pycharm": {
     "name": "#%%\n"
    }
   },
   "outputs": [],
   "source": [
    "from src.autorec.model import AutoRec\n",
    "from src.autorec.training import AutoRecTrainer"
   ]
  },
  {
   "cell_type": "code",
   "execution_count": 9,
   "metadata": {
    "pycharm": {
     "name": "#%%\n"
    },
    "scrolled": false
   },
   "outputs": [],
   "source": [
    "# If you wish to find hyper params run `autorec_hyper_params` with `find=True`\n",
    "# It will save the params and losses to models_params folder\n",
    "# Otherwise it will return a df with the already run models\n",
    "\n",
    "epochs = 60\n",
    "batch_size = 64\n",
    "\n",
    "\n",
    "def autorec_hyper_params(find=False):\n",
    "    if find:\n",
    "        for num_hidden in [100, 200, 500, 600]:\n",
    "            for lr in [0.001, 0.003, 0.005]:\n",
    "                for reg in [0.001, 0.003, 0.005]:\n",
    "                    print(f'STARTING TRAIN AutoRec with num_hidden: {num_hidden}, lr: {lr}, reg: {reg}')\n",
    "                    start_time = time()\n",
    "                    model_dict = {}\n",
    "\n",
    "                    num_users, num_items = train.shape\n",
    "\n",
    "                    # Init model and trainer\n",
    "                    model = AutoRec(num_hidden=num_hidden, num_features=num_users)\n",
    "                    autorec_trainer = AutoRecTrainer(train, test, model, epochs=epochs, batch_size=batch_size, lr=lr, reg=reg)\n",
    "\n",
    "                    # Train\n",
    "                    autorec_trainer.train_model()\n",
    "\n",
    "                    # Save parmas to model_dict\n",
    "                    model_dict['model_params'] = model.params()\n",
    "                    model_dict.update(autorec_trainer.params())\n",
    "                    model_dict['train_losses'] = autorec_trainer.train_losses\n",
    "                    model_dict['val_losses'] = autorec_trainer.val_losses\n",
    "\n",
    "                    # Save model params to json file\n",
    "                    file_name = f'models_params/AutoRec_{num_hidden}_{lr}_{reg}'\n",
    "                    with open(file_name, 'w') as f:\n",
    "                        json.dump(model_dict, f, indent=4)\n",
    "\n",
    "                    plot_train_history(autorec_trainer.train_losses, autorec_trainer.val_losses)\n",
    "                    print(f'model train time: {time() - start_time:.3f}\\n')\n",
    "        return\n",
    "    else:\n",
    "        return models_results('AutoRec')\n",
    "\n"
   ]
  },
  {
   "cell_type": "code",
   "execution_count": 10,
   "outputs": [
    {
     "data": {
      "text/plain": "                 model_name  train_loss  val_loss  \\\n27  AutoRec_600_0.001_0.001    0.562352  0.771318   \n18  AutoRec_500_0.001_0.001    0.575954  0.774840   \n9   AutoRec_200_0.001_0.001    0.721868  0.822268   \n12  AutoRec_200_0.003_0.001    0.734199  0.834206   \n21  AutoRec_500_0.003_0.001    0.700022  0.834856   \n30  AutoRec_600_0.003_0.001    0.709172  0.841700   \n15  AutoRec_200_0.005_0.001    0.808713  0.871103   \n0   AutoRec_100_0.001_0.001    0.825419  0.872221   \n3   AutoRec_100_0.003_0.001    0.819192  0.872363   \n6   AutoRec_100_0.005_0.001    0.840435  0.886805   \n24  AutoRec_500_0.005_0.001    0.829347  0.902214   \n33  AutoRec_600_0.005_0.001    0.841921  0.917529   \n19  AutoRec_500_0.001_0.003    0.891142  0.920023   \n28  AutoRec_600_0.001_0.003    0.892877  0.923674   \n10  AutoRec_200_0.001_0.003    0.915330  0.940129   \n20  AutoRec_500_0.001_0.005    0.944841  0.960007   \n29  AutoRec_600_0.001_0.005    0.943957  0.963806   \n1   AutoRec_100_0.001_0.003    0.944537  0.964306   \n13  AutoRec_200_0.003_0.003    0.951877  0.968041   \n22  AutoRec_500_0.003_0.003    0.954722  0.979587   \n4   AutoRec_100_0.003_0.003    0.972451  0.980535   \n31  AutoRec_600_0.003_0.003    0.958446  0.987823   \n11  AutoRec_200_0.001_0.005    0.968406  0.988120   \n16  AutoRec_200_0.005_0.003    0.985508  0.996793   \n7   AutoRec_100_0.005_0.003    0.994560  0.999645   \n25  AutoRec_500_0.005_0.003    0.989230  1.012850   \n2   AutoRec_100_0.001_0.005    0.994959  1.013326   \n14  AutoRec_200_0.003_0.005    1.010987  1.020542   \n34  AutoRec_600_0.005_0.003    0.994703  1.020572   \n5   AutoRec_100_0.003_0.005    1.024007  1.026423   \n23  AutoRec_500_0.003_0.005    1.005447  1.031163   \n32  AutoRec_600_0.003_0.005    1.010414  1.037253   \n8   AutoRec_100_0.005_0.005    1.047634  1.045261   \n26  AutoRec_500_0.005_0.005    1.046734  1.056889   \n35  AutoRec_600_0.005_0.005    1.044980  1.056908   \n17  AutoRec_200_0.005_0.005    1.045740  1.059539   \n\n                                               params  \n27  {'model_params': {'num_hidden': 600}, 'seed': ...  \n18  {'model_params': {'num_hidden': 500}, 'seed': ...  \n9   {'model_params': {'num_hidden': 200}, 'seed': ...  \n12  {'model_params': {'num_hidden': 200}, 'seed': ...  \n21  {'model_params': {'num_hidden': 500}, 'seed': ...  \n30  {'model_params': {'num_hidden': 600}, 'seed': ...  \n15  {'model_params': {'num_hidden': 200}, 'seed': ...  \n0   {'model_params': {'num_hidden': 100}, 'seed': ...  \n3   {'model_params': {'num_hidden': 100}, 'seed': ...  \n6   {'model_params': {'num_hidden': 100}, 'seed': ...  \n24  {'model_params': {'num_hidden': 500}, 'seed': ...  \n33  {'model_params': {'num_hidden': 600}, 'seed': ...  \n19  {'model_params': {'num_hidden': 500}, 'seed': ...  \n28  {'model_params': {'num_hidden': 600}, 'seed': ...  \n10  {'model_params': {'num_hidden': 200}, 'seed': ...  \n20  {'model_params': {'num_hidden': 500}, 'seed': ...  \n29  {'model_params': {'num_hidden': 600}, 'seed': ...  \n1   {'model_params': {'num_hidden': 100}, 'seed': ...  \n13  {'model_params': {'num_hidden': 200}, 'seed': ...  \n22  {'model_params': {'num_hidden': 500}, 'seed': ...  \n4   {'model_params': {'num_hidden': 100}, 'seed': ...  \n31  {'model_params': {'num_hidden': 600}, 'seed': ...  \n11  {'model_params': {'num_hidden': 200}, 'seed': ...  \n16  {'model_params': {'num_hidden': 200}, 'seed': ...  \n7   {'model_params': {'num_hidden': 100}, 'seed': ...  \n25  {'model_params': {'num_hidden': 500}, 'seed': ...  \n2   {'model_params': {'num_hidden': 100}, 'seed': ...  \n14  {'model_params': {'num_hidden': 200}, 'seed': ...  \n34  {'model_params': {'num_hidden': 600}, 'seed': ...  \n5   {'model_params': {'num_hidden': 100}, 'seed': ...  \n23  {'model_params': {'num_hidden': 500}, 'seed': ...  \n32  {'model_params': {'num_hidden': 600}, 'seed': ...  \n8   {'model_params': {'num_hidden': 100}, 'seed': ...  \n26  {'model_params': {'num_hidden': 500}, 'seed': ...  \n35  {'model_params': {'num_hidden': 600}, 'seed': ...  \n17  {'model_params': {'num_hidden': 200}, 'seed': ...  ",
      "text/html": "<div>\n<style scoped>\n    .dataframe tbody tr th:only-of-type {\n        vertical-align: middle;\n    }\n\n    .dataframe tbody tr th {\n        vertical-align: top;\n    }\n\n    .dataframe thead th {\n        text-align: right;\n    }\n</style>\n<table border=\"1\" class=\"dataframe\">\n  <thead>\n    <tr style=\"text-align: right;\">\n      <th></th>\n      <th>model_name</th>\n      <th>train_loss</th>\n      <th>val_loss</th>\n      <th>params</th>\n    </tr>\n  </thead>\n  <tbody>\n    <tr>\n      <th>27</th>\n      <td>AutoRec_600_0.001_0.001</td>\n      <td>0.562352</td>\n      <td>0.771318</td>\n      <td>{'model_params': {'num_hidden': 600}, 'seed': ...</td>\n    </tr>\n    <tr>\n      <th>18</th>\n      <td>AutoRec_500_0.001_0.001</td>\n      <td>0.575954</td>\n      <td>0.774840</td>\n      <td>{'model_params': {'num_hidden': 500}, 'seed': ...</td>\n    </tr>\n    <tr>\n      <th>9</th>\n      <td>AutoRec_200_0.001_0.001</td>\n      <td>0.721868</td>\n      <td>0.822268</td>\n      <td>{'model_params': {'num_hidden': 200}, 'seed': ...</td>\n    </tr>\n    <tr>\n      <th>12</th>\n      <td>AutoRec_200_0.003_0.001</td>\n      <td>0.734199</td>\n      <td>0.834206</td>\n      <td>{'model_params': {'num_hidden': 200}, 'seed': ...</td>\n    </tr>\n    <tr>\n      <th>21</th>\n      <td>AutoRec_500_0.003_0.001</td>\n      <td>0.700022</td>\n      <td>0.834856</td>\n      <td>{'model_params': {'num_hidden': 500}, 'seed': ...</td>\n    </tr>\n    <tr>\n      <th>30</th>\n      <td>AutoRec_600_0.003_0.001</td>\n      <td>0.709172</td>\n      <td>0.841700</td>\n      <td>{'model_params': {'num_hidden': 600}, 'seed': ...</td>\n    </tr>\n    <tr>\n      <th>15</th>\n      <td>AutoRec_200_0.005_0.001</td>\n      <td>0.808713</td>\n      <td>0.871103</td>\n      <td>{'model_params': {'num_hidden': 200}, 'seed': ...</td>\n    </tr>\n    <tr>\n      <th>0</th>\n      <td>AutoRec_100_0.001_0.001</td>\n      <td>0.825419</td>\n      <td>0.872221</td>\n      <td>{'model_params': {'num_hidden': 100}, 'seed': ...</td>\n    </tr>\n    <tr>\n      <th>3</th>\n      <td>AutoRec_100_0.003_0.001</td>\n      <td>0.819192</td>\n      <td>0.872363</td>\n      <td>{'model_params': {'num_hidden': 100}, 'seed': ...</td>\n    </tr>\n    <tr>\n      <th>6</th>\n      <td>AutoRec_100_0.005_0.001</td>\n      <td>0.840435</td>\n      <td>0.886805</td>\n      <td>{'model_params': {'num_hidden': 100}, 'seed': ...</td>\n    </tr>\n    <tr>\n      <th>24</th>\n      <td>AutoRec_500_0.005_0.001</td>\n      <td>0.829347</td>\n      <td>0.902214</td>\n      <td>{'model_params': {'num_hidden': 500}, 'seed': ...</td>\n    </tr>\n    <tr>\n      <th>33</th>\n      <td>AutoRec_600_0.005_0.001</td>\n      <td>0.841921</td>\n      <td>0.917529</td>\n      <td>{'model_params': {'num_hidden': 600}, 'seed': ...</td>\n    </tr>\n    <tr>\n      <th>19</th>\n      <td>AutoRec_500_0.001_0.003</td>\n      <td>0.891142</td>\n      <td>0.920023</td>\n      <td>{'model_params': {'num_hidden': 500}, 'seed': ...</td>\n    </tr>\n    <tr>\n      <th>28</th>\n      <td>AutoRec_600_0.001_0.003</td>\n      <td>0.892877</td>\n      <td>0.923674</td>\n      <td>{'model_params': {'num_hidden': 600}, 'seed': ...</td>\n    </tr>\n    <tr>\n      <th>10</th>\n      <td>AutoRec_200_0.001_0.003</td>\n      <td>0.915330</td>\n      <td>0.940129</td>\n      <td>{'model_params': {'num_hidden': 200}, 'seed': ...</td>\n    </tr>\n    <tr>\n      <th>20</th>\n      <td>AutoRec_500_0.001_0.005</td>\n      <td>0.944841</td>\n      <td>0.960007</td>\n      <td>{'model_params': {'num_hidden': 500}, 'seed': ...</td>\n    </tr>\n    <tr>\n      <th>29</th>\n      <td>AutoRec_600_0.001_0.005</td>\n      <td>0.943957</td>\n      <td>0.963806</td>\n      <td>{'model_params': {'num_hidden': 600}, 'seed': ...</td>\n    </tr>\n    <tr>\n      <th>1</th>\n      <td>AutoRec_100_0.001_0.003</td>\n      <td>0.944537</td>\n      <td>0.964306</td>\n      <td>{'model_params': {'num_hidden': 100}, 'seed': ...</td>\n    </tr>\n    <tr>\n      <th>13</th>\n      <td>AutoRec_200_0.003_0.003</td>\n      <td>0.951877</td>\n      <td>0.968041</td>\n      <td>{'model_params': {'num_hidden': 200}, 'seed': ...</td>\n    </tr>\n    <tr>\n      <th>22</th>\n      <td>AutoRec_500_0.003_0.003</td>\n      <td>0.954722</td>\n      <td>0.979587</td>\n      <td>{'model_params': {'num_hidden': 500}, 'seed': ...</td>\n    </tr>\n    <tr>\n      <th>4</th>\n      <td>AutoRec_100_0.003_0.003</td>\n      <td>0.972451</td>\n      <td>0.980535</td>\n      <td>{'model_params': {'num_hidden': 100}, 'seed': ...</td>\n    </tr>\n    <tr>\n      <th>31</th>\n      <td>AutoRec_600_0.003_0.003</td>\n      <td>0.958446</td>\n      <td>0.987823</td>\n      <td>{'model_params': {'num_hidden': 600}, 'seed': ...</td>\n    </tr>\n    <tr>\n      <th>11</th>\n      <td>AutoRec_200_0.001_0.005</td>\n      <td>0.968406</td>\n      <td>0.988120</td>\n      <td>{'model_params': {'num_hidden': 200}, 'seed': ...</td>\n    </tr>\n    <tr>\n      <th>16</th>\n      <td>AutoRec_200_0.005_0.003</td>\n      <td>0.985508</td>\n      <td>0.996793</td>\n      <td>{'model_params': {'num_hidden': 200}, 'seed': ...</td>\n    </tr>\n    <tr>\n      <th>7</th>\n      <td>AutoRec_100_0.005_0.003</td>\n      <td>0.994560</td>\n      <td>0.999645</td>\n      <td>{'model_params': {'num_hidden': 100}, 'seed': ...</td>\n    </tr>\n    <tr>\n      <th>25</th>\n      <td>AutoRec_500_0.005_0.003</td>\n      <td>0.989230</td>\n      <td>1.012850</td>\n      <td>{'model_params': {'num_hidden': 500}, 'seed': ...</td>\n    </tr>\n    <tr>\n      <th>2</th>\n      <td>AutoRec_100_0.001_0.005</td>\n      <td>0.994959</td>\n      <td>1.013326</td>\n      <td>{'model_params': {'num_hidden': 100}, 'seed': ...</td>\n    </tr>\n    <tr>\n      <th>14</th>\n      <td>AutoRec_200_0.003_0.005</td>\n      <td>1.010987</td>\n      <td>1.020542</td>\n      <td>{'model_params': {'num_hidden': 200}, 'seed': ...</td>\n    </tr>\n    <tr>\n      <th>34</th>\n      <td>AutoRec_600_0.005_0.003</td>\n      <td>0.994703</td>\n      <td>1.020572</td>\n      <td>{'model_params': {'num_hidden': 600}, 'seed': ...</td>\n    </tr>\n    <tr>\n      <th>5</th>\n      <td>AutoRec_100_0.003_0.005</td>\n      <td>1.024007</td>\n      <td>1.026423</td>\n      <td>{'model_params': {'num_hidden': 100}, 'seed': ...</td>\n    </tr>\n    <tr>\n      <th>23</th>\n      <td>AutoRec_500_0.003_0.005</td>\n      <td>1.005447</td>\n      <td>1.031163</td>\n      <td>{'model_params': {'num_hidden': 500}, 'seed': ...</td>\n    </tr>\n    <tr>\n      <th>32</th>\n      <td>AutoRec_600_0.003_0.005</td>\n      <td>1.010414</td>\n      <td>1.037253</td>\n      <td>{'model_params': {'num_hidden': 600}, 'seed': ...</td>\n    </tr>\n    <tr>\n      <th>8</th>\n      <td>AutoRec_100_0.005_0.005</td>\n      <td>1.047634</td>\n      <td>1.045261</td>\n      <td>{'model_params': {'num_hidden': 100}, 'seed': ...</td>\n    </tr>\n    <tr>\n      <th>26</th>\n      <td>AutoRec_500_0.005_0.005</td>\n      <td>1.046734</td>\n      <td>1.056889</td>\n      <td>{'model_params': {'num_hidden': 500}, 'seed': ...</td>\n    </tr>\n    <tr>\n      <th>35</th>\n      <td>AutoRec_600_0.005_0.005</td>\n      <td>1.044980</td>\n      <td>1.056908</td>\n      <td>{'model_params': {'num_hidden': 600}, 'seed': ...</td>\n    </tr>\n    <tr>\n      <th>17</th>\n      <td>AutoRec_200_0.005_0.005</td>\n      <td>1.045740</td>\n      <td>1.059539</td>\n      <td>{'model_params': {'num_hidden': 200}, 'seed': ...</td>\n    </tr>\n  </tbody>\n</table>\n</div>"
     },
     "execution_count": 10,
     "metadata": {},
     "output_type": "execute_result"
    }
   ],
   "source": [
    "autorec_results = autorec_hyper_params(find=False)\n",
    "autorec_results.sort_values(by='val_loss')"
   ],
   "metadata": {
    "collapsed": false,
    "pycharm": {
     "name": "#%%\n"
    }
   }
  },
  {
   "cell_type": "markdown",
   "source": [
    "# AutoRecV2"
   ],
   "metadata": {
    "collapsed": false,
    "pycharm": {
     "name": "#%% md\n"
    }
   }
  },
  {
   "cell_type": "code",
   "execution_count": 12,
   "outputs": [],
   "source": [
    "from src.autorecv2.model import AutoRecV2\n",
    "from src.autorecv2.training import AutoRecV2Trainer"
   ],
   "metadata": {
    "collapsed": false,
    "pycharm": {
     "name": "#%%\n"
    }
   }
  },
  {
   "cell_type": "code",
   "execution_count": 16,
   "outputs": [],
   "source": [
    "# If you wish to find hyper params run `autorec_hyper_params` with `find=True`\n",
    "# It will save the params and losses to models_params folder\n",
    "# Otherwise it will return a df with the already run models\n",
    "\n",
    "epochs = 60\n",
    "batch_size = 64\n",
    "\n",
    "\n",
    "def autorecv2_hyper_params(find=False):\n",
    "    if find:\n",
    "        for num_hidden in [100, 200, 500, 600]:\n",
    "            for lr in [0.001, 0.003, 0.005]:\n",
    "                for reg in [0.001, 0.003, 0.005]:\n",
    "                    print(f'STARTING TRAIN AutoRecV2 with num_hidden: {num_hidden}, lr: {lr}, reg: {reg}')\n",
    "                    start_time = time()\n",
    "                    model_dict = {}\n",
    "\n",
    "                    num_users, num_items = train.shape\n",
    "\n",
    "                    # Init model and trainer\n",
    "                    model = AutoRecV2(num_hidden=num_hidden, num_features=num_users)\n",
    "                    autorec_trainer = AutoRecV2Trainer(train, test, model, epochs=epochs, batch_size=batch_size, lr=lr, reg=reg)\n",
    "\n",
    "                    # Train\n",
    "                    autorec_trainer.train_model()\n",
    "\n",
    "                    # Save parmas to model_dict\n",
    "                    model_dict['model_params'] = model.params()\n",
    "                    model_dict.update(autorec_trainer.params())\n",
    "                    model_dict['train_losses'] = autorec_trainer.train_losses\n",
    "                    model_dict['val_losses'] = autorec_trainer.val_losses\n",
    "\n",
    "                    # Save model params to json file\n",
    "                    file_name = f'models_params/AutoRecV2_{num_hidden}_{lr}_{reg}'\n",
    "                    with open(file_name, 'w') as f:\n",
    "                        json.dump(model_dict, f, indent=4)\n",
    "\n",
    "                    plot_train_history(autorec_trainer.train_losses, autorec_trainer.val_losses)\n",
    "                    print(f'model train time: {time() - start_time:.3f}\\n')\n",
    "        return\n",
    "    else:\n",
    "        return models_results('AutoRecV2')\n"
   ],
   "metadata": {
    "collapsed": false,
    "pycharm": {
     "name": "#%%\n"
    }
   }
  },
  {
   "cell_type": "code",
   "execution_count": 18,
   "outputs": [
    {
     "data": {
      "text/plain": "                  model_name  train_loss  val_loss  \\\n0  AutoRecV2_100_0.001_0.001    0.826126  0.872967   \n1  AutoRecV2_100_0.001_0.003    0.944537  0.964306   \n\n                                              params  \n0  {'model_params': {'num_hidden': 100}, 'seed': ...  \n1  {'model_params': {'num_hidden': 100}, 'seed': ...  ",
      "text/html": "<div>\n<style scoped>\n    .dataframe tbody tr th:only-of-type {\n        vertical-align: middle;\n    }\n\n    .dataframe tbody tr th {\n        vertical-align: top;\n    }\n\n    .dataframe thead th {\n        text-align: right;\n    }\n</style>\n<table border=\"1\" class=\"dataframe\">\n  <thead>\n    <tr style=\"text-align: right;\">\n      <th></th>\n      <th>model_name</th>\n      <th>train_loss</th>\n      <th>val_loss</th>\n      <th>params</th>\n    </tr>\n  </thead>\n  <tbody>\n    <tr>\n      <th>0</th>\n      <td>AutoRecV2_100_0.001_0.001</td>\n      <td>0.826126</td>\n      <td>0.872967</td>\n      <td>{'model_params': {'num_hidden': 100}, 'seed': ...</td>\n    </tr>\n    <tr>\n      <th>1</th>\n      <td>AutoRecV2_100_0.001_0.003</td>\n      <td>0.944537</td>\n      <td>0.964306</td>\n      <td>{'model_params': {'num_hidden': 100}, 'seed': ...</td>\n    </tr>\n  </tbody>\n</table>\n</div>"
     },
     "execution_count": 18,
     "metadata": {},
     "output_type": "execute_result"
    }
   ],
   "source": [
    "autorecv2_results = autorecv2_hyper_params(find=False)\n",
    "autorecv2_results.sort_values(by='val_loss')"
   ],
   "metadata": {
    "collapsed": false,
    "pycharm": {
     "name": "#%%\n"
    }
   }
  },
  {
   "cell_type": "code",
   "execution_count": null,
   "outputs": [],
   "source": [],
   "metadata": {
    "collapsed": false,
    "pycharm": {
     "name": "#%%\n"
    }
   }
  }
 ],
 "metadata": {
  "kernelspec": {
   "display_name": "Python 3 (ipykernel)",
   "language": "python",
   "name": "python3"
  },
  "language_info": {
   "codemirror_mode": {
    "name": "ipython",
    "version": 3
   },
   "file_extension": ".py",
   "mimetype": "text/x-python",
   "name": "python",
   "nbconvert_exporter": "python",
   "pygments_lexer": "ipython3",
   "version": "3.8.12"
  }
 },
 "nbformat": 4,
 "nbformat_minor": 1
}